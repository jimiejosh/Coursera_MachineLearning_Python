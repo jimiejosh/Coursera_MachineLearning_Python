{
 "cells": [
  {
   "cell_type": "code",
   "execution_count": 2,
   "metadata": {
    "collapsed": true
   },
   "outputs": [],
   "source": [
    "%precision 2\n",
    "%matplotlib inline\n",
    "import numpy as np\n",
    "import matplotlib.pyplot as plt\n",
    "from IPython.display import Latex\n"
   ]
  },
  {
   "cell_type": "markdown",
   "metadata": {},
   "source": [
    "## Variable Definitions $ video~1, week~2$"
   ]
  },
  {
   "cell_type": "markdown",
   "metadata": {},
   "source": [
    "https://share.coursera.org/wiki/index.php/ML:Linear_Regression_with_Multiple_Variables\n",
    "\n",
    "$n$ = number of features $(x_1, x_2,...x_n)$\n",
    "\n",
    "$m$ = Nos of training examples/set (length of $y, x_1, x_2, etc$)\n",
    "\n",
    "$x^{(i)}$ = input features of $i^{th}$ training examples where $i \\in m$ \n",
    "\n",
    "e.g. $x^{(2)}$ = $x_1 = 1416, x_2 = 3, x_4 = 40$. N-dim vector.\n",
    "\n",
    "$x_j^{(i)}$ = value of feature $j$ in $i^{th}$ training example. e.g. $x_4^{(2)} = 40$\n"
   ]
  },
  {
   "cell_type": "code",
   "execution_count": null,
   "metadata": {
    "collapsed": true
   },
   "outputs": [],
   "source": []
  }
 ],
 "metadata": {
  "kernelspec": {
   "display_name": "Python 3",
   "language": "python",
   "name": "python3"
  },
  "language_info": {
   "codemirror_mode": {
    "name": "ipython",
    "version": 3
   },
   "file_extension": ".py",
   "mimetype": "text/x-python",
   "name": "python",
   "nbconvert_exporter": "python",
   "pygments_lexer": "ipython3",
   "version": "3.4.3"
  }
 },
 "nbformat": 4,
 "nbformat_minor": 0
}
