{
 "cells": [
  {
   "cell_type": "markdown",
   "metadata": {},
   "source": [
    "# Single Hypothesis Operations"
   ]
  },
  {
   "cell_type": "code",
   "execution_count": 120,
   "metadata": {
    "collapsed": true
   },
   "outputs": [],
   "source": [
    "%matplotlib inline\n",
    "%precision 2\n",
    "import numpy as np\n",
    "import matplotlib.pyplot as plt\n",
    "from IPython.display import Math"
   ]
  },
  {
   "cell_type": "markdown",
   "metadata": {},
   "source": [
    "Housing sizes: $\\left(\n",
    "\\begin{array}{c}\n",
    " 2104 \\\\\n",
    " 1416 \\\\\n",
    " 1534 \\\\\n",
    " 852 \\\\\n",
    "\\end{array}\n",
    "\\right)$ with model/hypothesis equation for the price: $h_\\theta(x) = -40+0.25x$ representing $h_\\theta(x) = \\theta_0+\\theta_1(x)$. Compute the hypothesis $h_\\theta(x)$."
   ]
  },
  {
   "cell_type": "code",
   "execution_count": 51,
   "metadata": {
    "collapsed": false
   },
   "outputs": [
    {
     "name": "stdout",
     "output_type": "stream",
     "text": [
      "[[ 486. ]\n",
      " [ 314. ]\n",
      " [ 343.5]\n",
      " [ 173. ]]\n"
     ]
    }
   ],
   "source": [
    "\n",
    "\n",
    "data_matrix = np.array([[1., 2104.],\n",
    "                        [1., 1416.],\n",
    "                        [1., 1534.],\n",
    "                        [1., 852.]])\n",
    "\n",
    "params = np.array([[-40],[0.25]])\n",
    "\n",
    "predictions = np.dot(data_matrix, params)\n",
    "\n",
    "print(predictions)"
   ]
  },
  {
   "cell_type": "markdown",
   "metadata": {
    "collapsed": true
   },
   "source": [
    "# # Multiple hypothesis"
   ]
  },
  {
   "cell_type": "markdown",
   "metadata": {},
   "source": [
    "$h_\\theta(x) = -40 + 0.25x$\n",
    "\n",
    "$h_\\theta(x) = 200 + 0.10x$\n",
    "\n",
    "$h_\\theta(x) = -150 + 0.4x$"
   ]
  },
  {
   "cell_type": "code",
   "execution_count": 88,
   "metadata": {
    "collapsed": false
   },
   "outputs": [
    {
     "name": "stdout",
     "output_type": "stream",
     "text": [
      "\n",
      "Price predictions for the 4 houses using the 3 hypothesis: \n",
      "\n",
      "[[ 486.   410.4  691.6]\n",
      " [ 314.   341.6  416.4]\n",
      " [ 343.5  353.4  463.6]\n",
      " [ 173.   285.2  190.8]]\n"
     ]
    },
    {
     "data": {
      "text/plain": [
       "[<matplotlib.lines.Line2D at 0x1070bfcf8>,\n",
       " <matplotlib.lines.Line2D at 0x1070c5080>,\n",
       " <matplotlib.lines.Line2D at 0x1070c5898>]"
      ]
     },
     "execution_count": 88,
     "metadata": {},
     "output_type": "execute_result"
    },
    {
     "data": {
      "image/png": "[encoded data removed]",
      "text/plain": [
       "<matplotlib.figure.Figure at 0x106a5cf28>"
      ]
     },
     "metadata": {},
     "output_type": "display_data"
    }
   ],
   "source": [
    "data_matrix = np.array([[1., 2104.],\n",
    "                        [1., 1416.],\n",
    "                        [1., 1534.],\n",
    "                        [1., 852.]])\n",
    "\n",
    "parameters = np.array([[-40, 200, -150],\n",
    "                       [.25, .10, 0.40]])\n",
    "\n",
    "multi_predictions = np.dot(data_matrix, parameters)\n",
    "\n",
    "print(\"\\nPrice predictions for the 4 houses using the 3 hypothesis: \\n\")\n",
    "print(multi_predictions)\n",
    "\n",
    "xline = np.linspace(1,3,3)\n",
    "\n",
    "len(multi_predictions)\n",
    "\n",
    "\n",
    "plt.plot(xline,multi_predictions[0],\n",
    "        xline, multi_predictions[1],\n",
    "        xline, multi_predictions[2])"
   ]
  },
  {
   "cell_type": "markdown",
   "metadata": {},
   "source": [
    "# Computing Inverse of Matrices for $m x m$\n"
   ]
  },
  {
   "cell_type": "code",
   "execution_count": 114,
   "metadata": {
    "collapsed": false
   },
   "outputs": [
    {
     "name": "stdout",
     "output_type": "stream",
     "text": [
      "\n",
      "\n",
      "Original matrix \n",
      "\n",
      "[[ 486.   410.4  691.6]\n",
      " [ 314.   341.6  416.4]\n",
      " [ 173.   285.2  190.8]]\n",
      "\n",
      " ...and the inverse is : \n",
      "\n",
      "[[ -1.17e+13   2.61e+13  -1.43e+13]\n",
      " [  2.66e+12  -5.90e+12   3.24e+12]\n",
      " [  6.67e+12  -1.48e+13   8.14e+12]]\n",
      "\n",
      "Checking for identity matrix... \n",
      "\n",
      "[[ 1.    2.   -1.  ]\n",
      " [ 0.    1.    0.  ]\n",
      " [ 0.    0.    1.25]]\n"
     ]
    }
   ],
   "source": [
    "orig_data = np.array([[ 486.,   410.4,  691.6],\n",
    "          [ 314.,   341.6,  416.4],\n",
    "          [ 173.,   285.2,  190.8]])\n",
    "print(\"\\n\\nOriginal matrix \\n\")\n",
    "print(orig_data)\n",
    "print(\"\\n ...and the inverse is : \\n\")\n",
    "\n",
    "orig_data_inv = np.linalg.inv(orig_data)\n",
    "print(orig_data_inv)\n",
    "\n",
    "print(\"\\nChecking for identity matrix... \\n\")\n",
    "print(np.dot(orig_data, orig_data_inv))\n"
   ]
  },
  {
   "cell_type": "markdown",
   "metadata": {},
   "source": [
    "# Exercises"
   ]
  },
  {
   "cell_type": "code",
   "execution_count": 116,
   "metadata": {
    "collapsed": false
   },
   "outputs": [
    {
     "data": {
      "text/plain": [
       "array([[ 2, 12],\n",
       "       [ 1, 11]])"
      ]
     },
     "execution_count": 116,
     "metadata": {},
     "output_type": "execute_result"
    }
   ],
   "source": [
    "A = np.array([[4,3],[6,9]])\n",
    "B = np.array([[-2,9],[-5,2]])\n",
    "\n",
    "np.add(A,B)"
   ]
  },
  {
   "cell_type": "code",
   "execution_count": 119,
   "metadata": {
    "collapsed": false
   },
   "outputs": [
    {
     "data": {
      "text/plain": [
       "13"
      ]
     },
     "execution_count": 119,
     "metadata": {},
     "output_type": "execute_result"
    }
   ],
   "source": [
    "U = np.array([3, -5, 4])\n",
    "V = np.array([1, 2, 5])\n",
    "\n",
    "np.dot(np.transpose(U),V)\n"
   ]
  },
  {
   "cell_type": "code",
   "execution_count": null,
   "metadata": {
    "collapsed": true
   },
   "outputs": [],
   "source": []
  }
 ],
 "metadata": {
  "kernelspec": {
   "display_name": "Python 3",
   "language": "python",
   "name": "python3"
  },
  "language_info": {
   "codemirror_mode": {
    "name": "ipython",
    "version": 3
   },
   "file_extension": ".py",
   "mimetype": "text/x-python",
   "name": "python",
   "nbconvert_exporter": "python",
   "pygments_lexer": "ipython3",
   "version": "3.4.3"
  }
 },
 "nbformat": 4,
 "nbformat_minor": 0
}
